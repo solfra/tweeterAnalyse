{
 "cells": [
  {
   "cell_type": "markdown",
   "metadata": {},
   "source": [
    "# Analyse tweeter activites tweet by tweet"
   ]
  },
  {
   "cell_type": "markdown",
   "metadata": {},
   "source": [
    "***\n",
    "Import necessary module"
   ]
  },
  {
   "cell_type": "code",
   "execution_count": null,
   "metadata": {},
   "outputs": [],
   "source": [
    "import numpy as np\n",
    "import matplotlib.pyplot as plt\n",
    "import csv\n",
    "import os\n",
    "import copy"
   ]
  },
  {
   "cell_type": "markdown",
   "metadata": {},
   "source": [
    "***\n",
    "Reed the directory \"tweet\" and all it's csv files"
   ]
  },
  {
   "cell_type": "code",
   "execution_count": null,
   "metadata": {},
   "outputs": [],
   "source": [
    "direct = os.listdir('tweet/')\n",
    "direct.sort() #trie solon date "
   ]
  },
  {
   "cell_type": "code",
   "execution_count": null,
   "metadata": {},
   "outputs": [],
   "source": [
    "m =[]\n",
    "for i in direct :\n",
    "    v = i.split('_')\n",
    "    m.append(v[4][4:6])"
   ]
  },
  {
   "cell_type": "code",
   "execution_count": null,
   "metadata": {},
   "outputs": [],
   "source": [
    "print(\"nombre de mois pris en compte :\", len(direct), \", couvrant la periode du\", direct[0].split('_')[4][0:4], direct[0].split('_')[4][4:6],direct[-1].split('_')[4][6:8], \"au\", direct[-1].split('_')[5][0:4],direct[-1].split('_')[5][4:6],direct[-1].split('_')[5][6:8] )"
   ]
  },
  {
   "cell_type": "code",
   "execution_count": null,
   "metadata": {},
   "outputs": [],
   "source": [
    "lmois = [] #list of all csv data by mounth\n",
    "for d in direct : \n",
    "\n",
    "    with open('tweet/{}'.format(d), newline='') as f:\n",
    "        reader = csv.reader(f)\n",
    "        data = list(reader)\n",
    "    lmois.append(data)"
   ]
  },
  {
   "cell_type": "markdown",
   "metadata": {},
   "source": [
    "***"
   ]
  },
  {
   "cell_type": "code",
   "execution_count": null,
   "metadata": {},
   "outputs": [],
   "source": [
    "def get_data_all(data,nbr):\n",
    "    \"\"\"\n",
    "    data = list of all csv tweet by month\n",
    "    nbr = colon number of data you  retrive\n",
    "    \"\"\"\n",
    "    ldata = []\n",
    "    for month in data :\n",
    "        for tweet in reversed(month[1:]) :\n",
    "            ldata.append(float(tweet[nbr]))\n",
    "            \n",
    "    return np.array(ldata)"
   ]
  },
  {
   "cell_type": "code",
   "execution_count": null,
   "metadata": {},
   "outputs": [],
   "source": [
    "def get_data_month(data,nbr):\n",
    "    \"\"\"\n",
    "    data = list of all csv tweet by month\n",
    "    nbr = colon number of data you  retrive\n",
    "    \"\"\"\n",
    "    l_mean = []\n",
    "    l_med = []\n",
    "    for month in data :\n",
    "        ldata = []\n",
    "        for tweet in reversed(month[1:]) :\n",
    "            ldata.append(float(tweet[nbr]))\n",
    "        l_mean.append(np.mean(np.array(ldata)))\n",
    "        l_med.append(np.median(np.array(ldata)))\n",
    "            \n",
    "    return np.array(l_mean), np.array(l_med)"
   ]
  },
  {
   "cell_type": "code",
   "execution_count": null,
   "metadata": {},
   "outputs": [],
   "source": [
    "def get_tweet(data,nbr=2):\n",
    "    \"\"\"\n",
    "    data = list of all csv tweet by month\n",
    "    nbr = colon number of data you  retrive\n",
    "    \"\"\"\n",
    "    ldata = []\n",
    "    for month in data :\n",
    "        for tweet in reversed(month[1:]) :\n",
    "            ldata.append((tweet[nbr]))\n",
    "            \n",
    "    return ldata"
   ]
  },
  {
   "cell_type": "code",
   "execution_count": null,
   "metadata": {},
   "outputs": [],
   "source": [
    "#def liste utiles******************************\n",
    "ldateTW = []\n",
    "\n",
    "lTw = get_tweet(lmois)\n",
    "\n",
    "l_impr = get_data_all(lmois,4)\n",
    "l_engag = get_data_all(lmois,5) \n",
    "l_rt = get_data_all(lmois,7)\n",
    "l_eng_prct = get_data_all(lmois,6)*100\n",
    "l_like = get_data_all(lmois,9)\n",
    "clic_prof = get_data_all(lmois,10)\n",
    "chastag =get_data_all(lmois,12)\n",
    "media=get_data_all(lmois,20)\n",
    "\n",
    "impr_moy_mois, impr_med_mois = get_data_month(lmois,4)\n",
    "engag_moy_mois, engag_med_mois = get_data_month(lmois,5)\n",
    "l_eng_prct_mois, l_eng_prct_med_mois= get_data_month(lmois,6)\n",
    "like_moy_mois, like_med_mois= get_data_month(lmois,9)\n",
    "rt_moy_mois, rt_med_mois= get_data_month(lmois,7)"
   ]
  },
  {
   "cell_type": "code",
   "execution_count": null,
   "metadata": {},
   "outputs": [],
   "source": [
    "print(\"total des tweet pris en compte : \", len(lTw))"
   ]
  },
  {
   "cell_type": "markdown",
   "metadata": {},
   "source": [
    "***"
   ]
  },
  {
   "cell_type": "code",
   "execution_count": null,
   "metadata": {
    "scrolled": true
   },
   "outputs": [],
   "source": [
    "#print des indicateur*******************************\n",
    "#print(\"vue total : \", np.sum(l_impr), \" ; engagement total : \", np.sum(l_engag),\" ; ratio : \",np.sum(l_engag)/np.sum(l_impr) )\n",
    "\n",
    "impr_mean = np.mean(l_impr)\n",
    "impr_med = np.median(l_impr)\n",
    "print(\"Nombre d'impression : moyenne :\", impr_mean, \"; médiane :\", impr_med)\n",
    "\n",
    "engag_mean = np.mean(l_engag)\n",
    "engag_med= np.median(l_engag)\n",
    "print(\"Nombre d'engagment : moyenne :\", engag_mean, \" ; médiane :\", engag_med)\n",
    "\n",
    "engag_prct_mean = np.mean(l_eng_prct)\n",
    "engag_prct_med = np.median(l_eng_prct)\n",
    "print(\"taux d'engagment (prct) : moyenne :\", engag_prct_mean, \" ; médiane :\", engag_prct_med)\n",
    "\n",
    "rt_mean = np.mean(l_rt)\n",
    "rt_med= np.median(l_rt)\n",
    "print(\"Nombre de retweet : moyenne :\", rt_mean, \" ; médiane :\", rt_med)\n",
    "\n",
    "like_mean = np.mean(l_like)\n",
    "like_med= np.median(l_like)\n",
    "print(\"Nombre de like : moyenne :\", like_mean, \" ; médiane :\", like_med)\n",
    "\n",
    "print(\"Nombre de clic profil : moyenne :\", np.mean(clic_prof), \" ; médiane :\", np.median(clic_prof))\n",
    "\n",
    "print(\"\\nsuppose que media vue au moins une fois\", \"\\nvue media moyen : \", media[media!=0].mean())\n",
    "\n",
    "print(\"\\nsuppose que hastag cliqué au moins une fois\", \"\\nclic hastag moyen : \", chastag[chastag!=0].mean())"
   ]
  },
  {
   "cell_type": "markdown",
   "metadata": {},
   "source": [
    "***"
   ]
  },
  {
   "cell_type": "code",
   "execution_count": null,
   "metadata": {},
   "outputs": [],
   "source": [
    "x = np.arange(len(lTw)) # pr fct tweet\n",
    "\n",
    "x2 = np.arange(len(impr_moy_mois)) #pr fct mois"
   ]
  },
  {
   "cell_type": "code",
   "execution_count": null,
   "metadata": {},
   "outputs": [],
   "source": [
    "plt.figure(figsize=(15,5))\n",
    "plt.subplot(121)\n",
    "plt.plot(x,l_impr, label=\"impression\")\n",
    "plt.plot(x,l_engag, label=\"engagement\")\n",
    "plt.xticks(ldateTW, m)\n",
    "plt.legend()\n",
    "plt.title(\"impression / engagement en fonction du tweet\")\n",
    "\n",
    "plt.subplot(122)\n",
    "plt.plot(x,l_like, label=\"like\")\n",
    "plt.plot(x,l_rt, label=\"RT\")\n",
    "plt.title(\"like / RT en fonction du tweet\")\n",
    "plt.legend()\n",
    "plt.xticks(ldateTW, m)\n",
    "\n",
    "plt.show()"
   ]
  },
  {
   "cell_type": "code",
   "execution_count": null,
   "metadata": {},
   "outputs": [],
   "source": [
    "plt.figure(figsize=(15,15))\n",
    "plt.subplot(121)\n",
    "plt.plot(x2, impr_moy_mois, label = \"impression median\")\n",
    "plt.plot(x2, engag_moy_mois, label = \"engagement median\")\n",
    "#plt.title(\"impression / engagement median en fonction du mois\")\n",
    "plt.xlabel(\"mois\")\n",
    "plt.ylabel(\"vue\")\n",
    "plt.legend()\n",
    "plt.xticks(x2, m)\n",
    "\n",
    "plt.subplot(222)\n",
    "plt.plot(x2, engag_moy_mois, label = \"engagement median\")\n",
    "plt.plot(x2, like_moy_mois, label = \"like median\")\n",
    "plt.plot(x2, rt_moy_mois, label = \"rt median\")\n",
    "plt.xlabel(\"mois\")\n",
    "plt.ylabel(\"vue\")\n",
    "#plt.title(\"like / rt median en fonction du mois\")\n",
    "plt.legend()\n",
    "plt.xticks(x2, m)\n",
    "\n",
    "plt.subplot(224)\n",
    "plt.plot(x2, l_eng_prct_mois*100, label = \" taux engagement moyen\")\n",
    "plt.xticks(x2, m)\n",
    "plt.xlabel(\"mois\")\n",
    "plt.ylabel(\"taux (%)\")\n",
    "plt.legend()\n",
    "#plt.title(\"taux d'engagement en fonction du mois\")\n",
    "\n",
    "plt.show()"
   ]
  },
  {
   "cell_type": "code",
   "execution_count": null,
   "metadata": {},
   "outputs": [],
   "source": [
    "plt.plot(l_impr, l_engag, 'd')\n",
    "plt.title(\"engagement en fonction de l'impression\")\n",
    "plt.show()"
   ]
  },
  {
   "cell_type": "code",
   "execution_count": null,
   "metadata": {},
   "outputs": [],
   "source": [
    "plt.figure(figsize=(15,15))\n",
    "plt.subplot(121)\n",
    "plt.hist(l_impr, bins = 15, density=False, log=True)\n",
    "plt.title(\"impression\")\n",
    "\n",
    "plt.subplot(122)\n",
    "plt.hist(l_engag, bins = 15, density=False, log=True)\n",
    "plt.title(\"engagement\")\n",
    "\n",
    "plt.show()"
   ]
  },
  {
   "cell_type": "code",
   "execution_count": null,
   "metadata": {},
   "outputs": [],
   "source": [
    "plt.plot(l_like, l_engag, 'd', label ='like')\n",
    "plt.plot(l_rt, l_engag, \"x\",label = 'rt')\n",
    "plt.ylabel(\"engagement\")\n",
    "plt.legend()\n",
    "plt.show()"
   ]
  },
  {
   "cell_type": "code",
   "execution_count": null,
   "metadata": {},
   "outputs": [],
   "source": [
    "lTw = get_tweet(lmois)\n",
    "clic_prof = get_data_all(lmois,10)\n",
    "\n",
    "#impr=list(clic_prof/l_impr)\n",
    "c=list(clic_prof)\n",
    "print(\"\\nlist des tweet avec le plus de clic profil : \\n\")\n",
    "\n",
    "for i in range(5):\n",
    "    tmax = c.index(max(c))\n",
    "    print(\"****************\")\n",
    "    print(\"tweet numéros {} avec {} clics profil :\".format(i+1,max(c)),lTw[tmax],\"\", sep=\"\\n\")\n",
    "    c.pop(tmax)\n",
    "    lTw.pop(tmax)"
   ]
  },
  {
   "cell_type": "code",
   "execution_count": null,
   "metadata": {},
   "outputs": [],
   "source": [
    "lTw = get_tweet(lmois)\n",
    "clic_prof = get_data_all(lmois,10)\n",
    "l_impr = get_data_all(lmois,4)\n",
    "\n",
    "\n",
    "c_o=list(clic_prof/l_impr)\n",
    "\n",
    "lt_m = []\n",
    "c =[]\n",
    "\n",
    "for i in range(len(l_impr)):\n",
    "    if l_impr[i] >= impr_mean :\n",
    "        lt_m.append(lTw[i])\n",
    "        c.append(c_o[i])\n",
    "\n",
    "print(\"\\nlist des tweet avec le plus de clic profil par impression : \\n\")\n",
    "\n",
    "for i in range(5):\n",
    "    tmax = c.index(max(c))\n",
    "    print(\"****************\")\n",
    "    print(\"tweet numéros {} avec {} clics profil :\".format(i+1,max(c)),lTw[tmax],\"\", sep=\"\\n\")\n",
    "    c.pop(tmax)\n",
    "    lTw.pop(tmax)"
   ]
  },
  {
   "cell_type": "code",
   "execution_count": null,
   "metadata": {},
   "outputs": [],
   "source": []
  },
  {
   "cell_type": "code",
   "execution_count": null,
   "metadata": {},
   "outputs": [],
   "source": []
  }
 ],
 "metadata": {
  "kernelspec": {
   "display_name": "Python 3",
   "language": "python",
   "name": "python3"
  },
  "language_info": {
   "codemirror_mode": {
    "name": "ipython",
    "version": 3
   },
   "file_extension": ".py",
   "mimetype": "text/x-python",
   "name": "python",
   "nbconvert_exporter": "python",
   "pygments_lexer": "ipython3",
   "version": "3.8.10"
  }
 },
 "nbformat": 4,
 "nbformat_minor": 4
}
