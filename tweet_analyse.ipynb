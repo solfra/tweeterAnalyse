{
 "cells": [
  {
   "cell_type": "markdown",
   "metadata": {},
   "source": [
    "# Analyse tweeter activites tweet by tweet"
   ]
  },
  {
   "cell_type": "markdown",
   "metadata": {},
   "source": [
    "***\n",
    "Import necessary module"
   ]
  },
  {
   "cell_type": "code",
   "execution_count": null,
   "metadata": {},
   "outputs": [],
   "source": [
    "import numpy as np\n",
    "import matplotlib.pyplot as plt\n",
    "import csv\n",
    "import os\n",
    "import copy"
   ]
  },
  {
   "cell_type": "markdown",
   "metadata": {},
   "source": [
    "***\n",
    "Reed the directory \"tweet\" and all it's csv files"
   ]
  },
  {
   "cell_type": "code",
   "execution_count": null,
   "metadata": {},
   "outputs": [],
   "source": [
    "direct = os.listdir('tweet/')\n",
    "direct.sort() #trie solon date "
   ]
  },
  {
   "cell_type": "code",
   "execution_count": null,
   "metadata": {},
   "outputs": [],
   "source": [
    "mois =[]\n",
    "for i in direct :\n",
    "    v = i.split('_')\n",
    "    mois.append(v[4][4:6])"
   ]
  },
  {
   "cell_type": "code",
   "execution_count": null,
   "metadata": {},
   "outputs": [],
   "source": [
    "print(\"nombre de mois pris en compte :\", len(direct), \n",
    "      \", couvrant la periode du\",direct[-1].split('_')[4][6:8],direct[0].split('_')[4][4:6], direct[0].split('_')[4][0:4] , \n",
    "      \"au\",direct[-1].split('_')[5][6:8], direct[-1].split('_')[5][4:6],direct[-1].split('_')[5][0:4] )"
   ]
  },
  {
   "cell_type": "code",
   "execution_count": null,
   "metadata": {},
   "outputs": [],
   "source": [
    "lmois = [] #list of all csv data by mounth\n",
    "for d in direct : \n",
    "    with open('tweet/{}'.format(d), newline='') as f:\n",
    "        reader = csv.reader(f)\n",
    "        data = list(reader)\n",
    "    lmois.append(data)"
   ]
  },
  {
   "cell_type": "markdown",
   "metadata": {},
   "source": [
    "***"
   ]
  },
  {
   "cell_type": "code",
   "execution_count": null,
   "metadata": {},
   "outputs": [],
   "source": [
    "def get_data_all(data,nbr):\n",
    "    \"\"\"\n",
    "    data = list of all csv tweet by month\n",
    "    nbr = colon number of data you  retrive\n",
    "    \"\"\"\n",
    "    ldata = []\n",
    "    for month in data :\n",
    "        for tweet in reversed(month[1:]) :\n",
    "            ldata.append(float(tweet[nbr]))\n",
    "            \n",
    "    return np.array(ldata)"
   ]
  },
  {
   "cell_type": "code",
   "execution_count": null,
   "metadata": {},
   "outputs": [],
   "source": [
    "def get_data_month(data,nbr):\n",
    "    \"\"\"\n",
    "    data = list of all csv tweet by month\n",
    "    nbr = colon number of data you  retrive\n",
    "    \"\"\"\n",
    "    l\n",
    "    for month in data :\n",
    "        ldata = []\n",
    "        for tweet in reversed(month[1:]) :\n",
    "            ldata.append(float(tweet[nbr]))\n",
    "        l.append(np.array(ldata))\n",
    "            \n",
    "    return np.array(l)"
   ]
  },
  {
   "cell_type": "code",
   "execution_count": null,
   "metadata": {},
   "outputs": [],
   "source": [
    "def cont_data_month(data,nbr):\n",
    "    \"\"\"\n",
    "    data = list of all csv tweet by month\n",
    "    nbr = colon number of data you  retrive\n",
    "    \"\"\"\n",
    "    l = []\n",
    "    for month in data :\n",
    "        \n",
    "        if nbr ==2 :\n",
    "            i = 0\n",
    "            for tweet in reversed(month[1:]) :\n",
    "                i+=1\n",
    "            l.append(i)\n",
    "            \n",
    "        else :\n",
    "            ldata = []\n",
    "            for tweet in reversed(month[1:]) :             \n",
    "                ldata.append(float(tweet[nbr]))\n",
    "            l.append(np.sum(ldata))\n",
    "            \n",
    "    return np.array(l)"
   ]
  },
  {
   "cell_type": "code",
   "execution_count": null,
   "metadata": {},
   "outputs": [],
   "source": [
    "def get_tweet(data,nbr=2):\n",
    "    \"\"\"\n",
    "    data = list of all csv tweet by month\n",
    "    nbr = colon number of data you  retrive\n",
    "    \"\"\"\n",
    "    ldata = []\n",
    "    for month in data :\n",
    "        for tweet in reversed(month[1:]) :\n",
    "            ldata.append((tweet[nbr]))\n",
    "            \n",
    "    return ldata"
   ]
  },
  {
   "cell_type": "markdown",
   "metadata": {},
   "source": [
    "***"
   ]
  },
  {
   "cell_type": "code",
   "execution_count": null,
   "metadata": {},
   "outputs": [],
   "source": [
    "#def liste utiles******************************\n",
    "lTw = get_tweet(lmois)\n",
    "l_impr = get_data_all(lmois,4)\n",
    "l_engag = get_data_all(lmois,5) \n",
    "l_rt = get_data_all(lmois,7)\n",
    "l_eng_prct = get_data_all(lmois,6)*100\n",
    "l_like = get_data_all(lmois,9)\n",
    "clic_prof = get_data_all(lmois,10)\n",
    "chastag =get_data_all(lmois,12)\n",
    "media=get_data_all(lmois,20)"
   ]
  },
  {
   "cell_type": "code",
   "execution_count": null,
   "metadata": {},
   "outputs": [],
   "source": [
    "print(\"total des tweet pris en compte : \", len(lTw))"
   ]
  },
  {
   "cell_type": "code",
   "execution_count": null,
   "metadata": {
    "tags": []
   },
   "outputs": [],
   "source": [
    "#print des indicateur*******************************\n",
    "#print(\"vue total : \", np.sum(l_impr), \" ; engagement total : \", np.sum(l_engag),\" ; ratio : \",np.sum(l_engag)/np.sum(l_impr) )\n",
    "\n",
    "print(\"Nombre d'impression : moyenne :\", np.mean(l_impr), \"; médiane :\",np.median(l_impr) )\n",
    "\n",
    "print(\"Nombre d'engagment : moyenne :\", np.mean(l_engag), \" ; médiane :\", np.median(l_engag))\n",
    "\n",
    "print(\"taux d'engagment (prct) : moyenne :\",np.mean(l_eng_prct), \" ; médiane :\",np.median(l_eng_prct) )\n",
    "\n",
    "print(\"Nombre de retweet : moyenne :\", np.mean(l_rt), \" ; médiane :\", np.median(l_rt))\n",
    "\n",
    "print(\"Nombre de like : moyenne :\", np.mean(l_like), \" ; médiane :\", np.median(l_like))\n",
    "\n",
    "print(\"Nombre de clic profil : moyenne :\", np.mean(clic_prof), \" ; médiane :\", np.median(clic_prof))\n",
    "\n",
    "print(\"\\nsuppose que media vue au moins une fois\", \"\\nvue media moyen : \", media[media!=0].mean())\n",
    "\n",
    "print(\"\\nsuppose que hastag cliqué au moins une fois\", \"\\nclic hastag moyen : \", chastag[chastag!=0].mean())"
   ]
  },
  {
   "cell_type": "markdown",
   "metadata": {},
   "source": [
    "***"
   ]
  },
  {
   "cell_type": "code",
   "execution_count": null,
   "metadata": {},
   "outputs": [],
   "source": [
    "%matplotlib inline"
   ]
  },
  {
   "cell_type": "code",
   "execution_count": null,
   "metadata": {},
   "outputs": [],
   "source": [
    "l_impr = get_data_all(lmois,4)\n",
    "l_engag = get_data_all(lmois,5) \n",
    "l_rt = get_data_all(lmois,7)\n",
    "l_like = get_data_all(lmois,9)\n",
    "\n",
    "ldateTW=cont_data_month(lmois,2)\n",
    "xlabelM = [0]\n",
    "for i in range(len(ldateTW)-1) :\n",
    "    xlabelM.append(xlabelM[i]+ldateTW[i])\n",
    "\n",
    "x = np.arange(l_like.shape[0]) # pr fct tweet\n",
    "\n",
    "w = False\n",
    "if w == True :\n",
    "    %matplotlib widget\n",
    "    plt.figure(figsize=(10,5))\n",
    "elif w == False :\n",
    "    %matplotlib inline\n",
    "    plt.figure(figsize=(20,9))\n",
    "plt.subplot(121)\n",
    "plt.plot(x,l_impr, label=\"impression\")\n",
    "plt.plot(x,l_engag, label=\"engagement\")\n",
    "plt.xticks(xlabelM, mois)\n",
    "plt.legend(fontsize=15)\n",
    "plt.yticks(fontsize=20)\n",
    "plt.xticks(xlabelM, mois,fontsize=10)\n",
    "plt.title(\"impression / engagement en fonction du tweet\",fontsize=20)\n",
    "\n",
    "plt.subplot(122)\n",
    "plt.plot(x,l_like, label=\"like\")\n",
    "plt.plot(x,l_rt, label=\"RT\")\n",
    "plt.title(\"like / RT en fonction du tweet\",fontsize=20)\n",
    "plt.legend(fontsize=15)\n",
    "plt.yticks(fontsize=20)\n",
    "plt.xticks(xlabelM, mois,fontsize=10)\n",
    "\n",
    "plt.show()"
   ]
  },
  {
   "cell_type": "code",
   "execution_count": null,
   "metadata": {},
   "outputs": [],
   "source": [
    "x2 = np.arange(len(impr_moy_mois)) #pr fct mois\n",
    "\n",
    "plt.figure(figsize=(15,15))\n",
    "plt.subplot(121)\n",
    "plt.plot(x2, impr_med_mois, label = \"impression median\")\n",
    "plt.plot(x2, engag_med_mois, label = \"engagement median\")\n",
    "#plt.title(\"impression / engagement median en fonction du mois\")\n",
    "plt.xlabel(\"mois\")\n",
    "plt.ylabel(\"vue\")\n",
    "plt.legend()\n",
    "plt.xticks(x2, m)\n",
    "\n",
    "plt.subplot(222)\n",
    "plt.plot(x2, engag_med_mois, label = \"engagement median\")\n",
    "plt.plot(x2, like_med_mois, label = \"like median\")\n",
    "plt.plot(x2, rt_med_mois, label = \"rt median\")\n",
    "plt.xlabel(\"mois\")\n",
    "plt.ylabel(\"vue\")\n",
    "#plt.title(\"like / rt median en fonction du mois\")\n",
    "plt.legend()\n",
    "plt.xticks(x2, m)\n",
    "\n",
    "plt.subplot(224)\n",
    "plt.plot(x2, l_eng_prct_mois*100, label = \" taux engagement moyen\")\n",
    "plt.xticks(x2, m)\n",
    "plt.xlabel(\"mois\")\n",
    "plt.ylabel(\"taux (%)\")\n",
    "plt.legend()\n",
    "#plt.title(\"taux d'engagement en fonction du mois\")\n",
    "\n",
    "plt.show()"
   ]
  },
  {
   "cell_type": "code",
   "execution_count": null,
   "metadata": {},
   "outputs": [],
   "source": [
    "plt.figure(figsize=(15,5))\n",
    "plt.subplot(121)\n",
    "plt.hist(l_impr, bins = 15, density=False, log=True)\n",
    "plt.title(\"impression\")\n",
    "\n",
    "plt.subplot(122)\n",
    "plt.hist(l_engag, bins = 15, density=False, log=True)\n",
    "plt.title(\"engagement\")\n",
    "\n",
    "plt.show()"
   ]
  },
  {
   "cell_type": "markdown",
   "metadata": {},
   "source": [
    "### Total par mois"
   ]
  },
  {
   "cell_type": "code",
   "execution_count": null,
   "metadata": {},
   "outputs": [],
   "source": [
    "nbt = cont_data_month(lmois,2)\n",
    "nb_eng = cont_data_month(lmois,5)\n",
    "nb_impr = cont_data_month(lmois,4)\n",
    "x2 = np.arange(len(mois))\n",
    "\n",
    "%matplotlib inline\n",
    "plt.figure(figsize=(15,5))\n",
    "plt.subplot(131)\n",
    "plt.plot(x2, nbt)\n",
    "plt.xticks(x2, mois)\n",
    "plt.xlabel(\"mois\")\n",
    "plt.title(\"nombre de tweet\")\n",
    "\n",
    "plt.subplot(133)\n",
    "plt.plot(x2, nb_eng)\n",
    "#plt.plot(x2, nb_impr, label = \"impression\")\n",
    "plt.xticks(x2, mois)\n",
    "plt.xlabel(\"mois\")\n",
    "plt.title(\"engagement\")\n",
    "\n",
    "plt.subplot(132)\n",
    "plt.plot(x2, nb_impr)\n",
    "plt.xticks(x2, mois)\n",
    "plt.xlabel(\"mois\")\n",
    "plt.title(\"impression\")\n",
    "\n",
    "plt.show()"
   ]
  },
  {
   "cell_type": "code",
   "execution_count": null,
   "metadata": {},
   "outputs": [],
   "source": [
    "lTw = get_tweet(lmois)\n",
    "clic_prof = get_data_all(lmois,10)\n",
    "\n",
    "#impr=list(clic_prof/l_impr)\n",
    "c=list(clic_prof)\n",
    "print(\"\\nlist des tweet avec le plus de clic profil : \\n\")\n",
    "\n",
    "for i in range(5):\n",
    "    tmax = c.index(max(c))\n",
    "    print(\"****************\")\n",
    "    print(\"tweet numéros {} avec {} clics profil :\".format(i+1,max(c)),lTw[tmax],\"\", sep=\"\\n\")\n",
    "    c.pop(tmax)\n",
    "    lTw.pop(tmax)"
   ]
  },
  {
   "cell_type": "markdown",
   "metadata": {},
   "source": [
    "### a refaire "
   ]
  },
  {
   "cell_type": "code",
   "execution_count": null,
   "metadata": {},
   "outputs": [],
   "source": [
    "lTw = get_tweet(lmois)\n",
    "clic_prof = get_data_all(lmois,10)\n",
    "l_impr = get_data_all(lmois,4)\n",
    "\n",
    "c_o=list(clic_prof/l_impr)\n",
    "\n",
    "lt_m = []\n",
    "c =[]\n",
    "l_i = []\n",
    "cl = []\n",
    "\n",
    "for i in range(len(l_impr)):\n",
    "    if l_impr[i] >= 2*impr_mean :\n",
    "        lt_m.append(lTw[i])\n",
    "        c.append(c_o[i])\n",
    "        cl.append(clic_prof[i])\n",
    "        l_i.append(l_impr[i])\n",
    "\n",
    "print(\"\\nlist des tweet avec le plus de clic profil par impression : \\nOn considère ici uniquement les tweet ayant 2 fois le nombre moyen de vue \\n\")\n",
    "\n",
    "for i in range(5):\n",
    "    tmax = c.index(max(c))\n",
    "    print(\"****************\")\n",
    "    print(\"tweet numéros {} avec {} clics profil par impression :\".format(i+1,max(c)),lt_m[tmax],\"\", sep=\"\\n\")\n",
    "    print(\"impression : {} ; clic : {}\".format(l_i[tmax],cl[tmax]))\n",
    "    c.pop(tmax)\n",
    "    lTw.pop(tmax)\n",
    "    l_i.pop(tmax)\n",
    "    cl.pop(tmax)"
   ]
  },
  {
   "cell_type": "code",
   "execution_count": null,
   "metadata": {},
   "outputs": [],
   "source": [
    "lTw = get_tweet(lmois)\n",
    "clic_prof = get_data_all(lmois,6)\n",
    "l_impr = get_data_all(lmois,4)\n",
    "impr_mean = np.mean(l_impr)\n",
    "\n",
    "\n",
    "lt_m = []\n",
    "c =[]\n",
    "l_i = []\n",
    "\n",
    "\n",
    "for i in range(len(l_impr)):\n",
    "    if l_impr[i] >= 2*impr_mean :\n",
    "        lt_m.append(lTw[i])\n",
    "        c.append(clic_prof[i])\n",
    "        l_i.append(l_impr[i])\n",
    "\n",
    "print(\"\\nlist des tweet avec le plus de clic profil par impression : \\nOn considère ici uniquement les tweet ayant 2 fois le nombre moyen de vue \\n\")\n",
    "\n",
    "for i in range(5):\n",
    "    tmax = c.index(max(c))\n",
    "    print(\"****************\")\n",
    "    print(\"tweet numéros {} avec {} clics profil par impression :\".format(i+1,max(c)),lt_m[tmax],\"\", sep=\"\\n\")\n",
    "    print(\"impression : {} ; clic : {}\".format(l_i[tmax],c[tmax]))\n",
    "    lTw.pop(tmax)\n",
    "    l_i.pop(tmax)\n",
    "    c.pop(tmax)"
   ]
  },
  {
   "cell_type": "markdown",
   "metadata": {},
   "source": [
    "### Etude du dernier mois "
   ]
  },
  {
   "cell_type": "code",
   "execution_count": null,
   "metadata": {},
   "outputs": [],
   "source": [
    "last_m = direct[-1]\n",
    "with open('tweet/{}'.format(last_m), newline='') as f:\n",
    "    reader = csv.reader(f)\n",
    "    mois = list(reader)"
   ]
  },
  {
   "cell_type": "code",
   "execution_count": null,
   "metadata": {},
   "outputs": [],
   "source": [
    "l_impr = get_data_all([mois],4)\n",
    "l_engag = get_data_all([mois],5) \n",
    "l_rt = get_data_all([mois],7)\n",
    "l_like = get_data_all([mois],9)"
   ]
  },
  {
   "cell_type": "code",
   "execution_count": null,
   "metadata": {},
   "outputs": [],
   "source": [
    "xm = np.arange(len(l_impr))\n",
    "plt.figure(figsize=(15,5))\n",
    "plt.subplot(121)\n",
    "plt.plot(xm,l_impr, label=\"impression\")\n",
    "plt.plot(xm,l_engag, label=\"engagement\")\n",
    "plt.legend()\n",
    "plt.title(\"impression / engagement en fonction du tweet\")\n",
    "\n",
    "plt.subplot(122)\n",
    "plt.plot(xm,l_like, label=\"like\")\n",
    "plt.plot(xm,l_rt, label=\"RT\")\n",
    "plt.title(\"like / RT en fonction du tweet\")\n",
    "plt.legend()\n",
    "\n",
    "plt.show()"
   ]
  },
  {
   "cell_type": "code",
   "execution_count": null,
   "metadata": {},
   "outputs": [],
   "source": []
  }
 ],
 "metadata": {
  "kernelspec": {
   "display_name": "Python 3 (ipykernel)",
   "language": "python",
   "name": "python3"
  },
  "language_info": {
   "codemirror_mode": {
    "name": "ipython",
    "version": 3
   },
   "file_extension": ".py",
   "mimetype": "text/x-python",
   "name": "python",
   "nbconvert_exporter": "python",
   "pygments_lexer": "ipython3",
   "version": "3.10.4"
  }
 },
 "nbformat": 4,
 "nbformat_minor": 4
}
