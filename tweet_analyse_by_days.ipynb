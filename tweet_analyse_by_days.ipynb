{
 "cells": [
  {
   "cell_type": "markdown",
   "id": "b5373e3d-9c53-4215-9eba-9e7e7fa1a295",
   "metadata": {},
   "source": [
    "# Analyse tweeter activites day by day"
   ]
  },
  {
   "cell_type": "code",
   "execution_count": null,
   "id": "c73a26c8-0a07-4751-9e23-d3ffc42d0b67",
   "metadata": {},
   "outputs": [],
   "source": [
    "import numpy as np\n",
    "import matplotlib.pyplot as plt\n",
    "import csv\n",
    "import os\n",
    "import copy"
   ]
  },
  {
   "cell_type": "markdown",
   "id": "b590c750-b7bd-442b-94bc-99aaa2657772",
   "metadata": {},
   "source": [
    "***\n",
    "Reed the directory \"tweet\" and all it's csv files"
   ]
  },
  {
   "cell_type": "code",
   "execution_count": null,
   "id": "8f2d7b00-9de1-4a25-9bd9-f572959ad964",
   "metadata": {},
   "outputs": [],
   "source": [
    "direct = os.listdir('date/')\n",
    "direct.sort() #trie solon date "
   ]
  },
  {
   "cell_type": "code",
   "execution_count": null,
   "id": "a43d1a19-169e-4ed2-a10d-3c0bccd2d300",
   "metadata": {},
   "outputs": [],
   "source": [
    "mois =[]\n",
    "for i in direct :\n",
    "    v = i.split('_')\n",
    "    mois.append(v[5][4:6])"
   ]
  },
  {
   "cell_type": "code",
   "execution_count": null,
   "id": "30dba426-ee91-491e-be4d-7f60f0ca4361",
   "metadata": {},
   "outputs": [],
   "source": [
    "print(\"nombre de mois pris en compte :\", len(direct), \n",
    "      \", couvrant la periode du\",direct[-1].split('_')[4][6:8],direct[0].split('_')[4][4:6], direct[0].split('_')[4][0:4] , \n",
    "      \"au\",direct[-1].split('_')[5][6:8], direct[-1].split('_')[5][4:6],direct[-1].split('_')[5][0:4] )"
   ]
  },
  {
   "cell_type": "code",
   "execution_count": null,
   "id": "105d36b3-90f2-4364-8a05-9240ef52374f",
   "metadata": {},
   "outputs": [],
   "source": [
    "lmois = [] #list of all csv data by mounth\n",
    "nbrD = []\n",
    "for d in direct : \n",
    "    with open('date/{}'.format(d), newline='') as f:\n",
    "        reader = csv.reader(f)\n",
    "        data = list(reader)\n",
    "        nbrD.append(len(data))\n",
    "    lmois.append(data)"
   ]
  },
  {
   "cell_type": "markdown",
   "id": "da3fdf39-df8f-44f7-bb78-052937fbe0bd",
   "metadata": {},
   "source": [
    "***"
   ]
  },
  {
   "cell_type": "code",
   "execution_count": null,
   "id": "f20f5dbe-6ad9-43ea-bd50-00f95b4f6597",
   "metadata": {},
   "outputs": [],
   "source": [
    "def get_data_all(data,nbr):\n",
    "    \"\"\"\n",
    "    data = list of all csv tweet by month\n",
    "    nbr = colon number of data you  retrive\n",
    "    \"\"\"\n",
    "    ldata = []\n",
    "    for month in data :\n",
    "        for tweet in reversed(month[1:]) :\n",
    "            ldata.append(float(tweet[nbr]))\n",
    "            \n",
    "    return np.array(ldata)"
   ]
  },
  {
   "cell_type": "code",
   "execution_count": null,
   "id": "4ea29d1f-29f0-4dd1-887d-9027e7af5c49",
   "metadata": {},
   "outputs": [],
   "source": [
    "def get_data_month(data,nbr):\n",
    "    \"\"\"\n",
    "    data = list of all csv tweet by month\n",
    "    nbr = colon number of data you  retrive\n",
    "    \"\"\"\n",
    "    l\n",
    "    for month in data :\n",
    "        ldata = []\n",
    "        for tweet in reversed(month[1:]) :\n",
    "            ldata.append(float(tweet[nbr]))\n",
    "        l.append(np.array(ldata))\n",
    "            \n",
    "    return np.array(l)"
   ]
  },
  {
   "cell_type": "code",
   "execution_count": null,
   "id": "18cb00fa-668b-4ffc-9540-046bc33a5bb7",
   "metadata": {},
   "outputs": [],
   "source": [
    "def cont_data_month(data,nbr):\n",
    "    \"\"\"\n",
    "    data = list of all csv tweet by month\n",
    "    nbr = colon number of data you  retrive\n",
    "    \"\"\"\n",
    "    l = []\n",
    "    for month in data :\n",
    "        ldata = []\n",
    "        for tweet in reversed(month[1:]) :             \n",
    "            ldata.append(float(tweet[nbr]))\n",
    "        l.append(np.sum(ldata))\n",
    "            \n",
    "    return np.array(l)"
   ]
  },
  {
   "cell_type": "code",
   "execution_count": null,
   "id": "d6ade918-a2f7-406b-be67-8be1fa1323f8",
   "metadata": {},
   "outputs": [],
   "source": [
    "def get_tweet(data,nbr=2):\n",
    "    \"\"\"\n",
    "    data = list of all csv tweet by month\n",
    "    nbr = colon number of data you  retrive\n",
    "    \"\"\"\n",
    "    ldata = []\n",
    "    for month in data :\n",
    "        for tweet in reversed(month[1:]) :\n",
    "            ldata.append((tweet[nbr]))\n",
    "            \n",
    "    return ldata"
   ]
  },
  {
   "cell_type": "markdown",
   "id": "684760e1-1eb1-40e1-a382-cd70cf9f0c1c",
   "metadata": {},
   "source": [
    "***"
   ]
  },
  {
   "cell_type": "code",
   "execution_count": null,
   "id": "56b6db9c-f075-4c8f-a0a6-2990cd8b0e2a",
   "metadata": {},
   "outputs": [],
   "source": [
    "#def liste utiles******************************\n",
    "lTw = get_tweet(lmois,nbr=1)\n",
    "l_impr = get_data_all(lmois,2)\n",
    "l_engag = get_data_all(lmois,3) \n",
    "l_rt = get_data_all(lmois,5)\n",
    "l_eng_prct = get_data_all(lmois,4)*100\n",
    "l_like = get_data_all(lmois,7)\n",
    "clic_prof = get_data_all(lmois,8)\n",
    "#chastag =get_data_all(lmois,12)\n",
    "#media=get_data_all(lmois,20)"
   ]
  },
  {
   "cell_type": "code",
   "execution_count": null,
   "id": "f2c9480a-fd54-47d3-a929-cfb0f92f0533",
   "metadata": {},
   "outputs": [],
   "source": [
    "print(\"nombre de jours pris en compte : \", len(lTw))"
   ]
  },
  {
   "cell_type": "code",
   "execution_count": null,
   "id": "5f0bb0dd-cc2c-4cdf-ad02-c29e4f3c3e42",
   "metadata": {
    "tags": []
   },
   "outputs": [],
   "source": [
    "#print des indicateur*******************************\n",
    "#print(\"vue total : \", np.sum(l_impr), \" ; engagement total : \", np.sum(l_engag),\" ; ratio : \",np.sum(l_engag)/np.sum(l_impr) )\n",
    "\n",
    "print(\"Nombre d'impression : moyenne :\", np.mean(l_impr), \"; médiane :\",np.median(l_impr) )\n",
    "\n",
    "print(\"Nombre d'engagment : moyenne :\", np.mean(l_engag), \" ; médiane :\", np.median(l_engag))\n",
    "\n",
    "print(\"taux d'engagment (prct) : moyenne :\",np.mean(l_eng_prct), \" ; médiane :\",np.median(l_eng_prct) )\n",
    "\n",
    "print(\"Nombre de retweet : moyenne :\", np.mean(l_rt), \" ; médiane :\", np.median(l_rt))\n",
    "\n",
    "print(\"Nombre de like : moyenne :\", np.mean(l_like), \" ; médiane :\", np.median(l_like))\n",
    "\n",
    "print(\"Nombre de clic profil : moyenne :\", np.mean(clic_prof), \" ; médiane :\", np.median(clic_prof))\n",
    "\n",
    "#print(\"\\nsuppose que media vue au moins une fois\", \"\\nvue media moyen : \", media[media!=0].mean())\n",
    "\n",
    "#print(\"\\nsuppose que hastag cliqué au moins une fois\", \"\\nclic hastag moyen : \", chastag[chastag!=0].mean())"
   ]
  },
  {
   "cell_type": "markdown",
   "id": "edec7be7-c2dc-40c8-bc44-ab7d7ae8fb23",
   "metadata": {},
   "source": [
    "***"
   ]
  },
  {
   "cell_type": "code",
   "execution_count": null,
   "id": "96042d07-6473-4825-8c09-20f3cce3e5fb",
   "metadata": {},
   "outputs": [],
   "source": [
    "l_impr = get_data_all(lmois,2)\n",
    "l_engag = get_data_all(lmois,3) \n",
    "l_rt = get_data_all(lmois,5)\n",
    "l_like = get_data_all(lmois,7)\n",
    "\n",
    "xlabelM = [0]\n",
    "for i in range(len(nbrD)-1) :\n",
    "    xlabelM.append(xlabelM[i]+nbrD[i])\n",
    "\n",
    "x = np.arange(l_like.shape[0]) # pr fct tweet\n",
    "\n",
    "w = False\n",
    "if w == True :\n",
    "    %matplotlib widget\n",
    "    plt.figure(figsize=(10,5))\n",
    "elif w == False :\n",
    "    %matplotlib inline\n",
    "    plt.figure(figsize=(20,9))\n",
    "plt.subplot(121)\n",
    "plt.plot(x,l_impr, label=\"impression\")\n",
    "plt.plot(x,l_engag, label=\"engagement\")\n",
    "plt.xticks(xlabelM, mois)\n",
    "plt.legend(fontsize=15)\n",
    "plt.yticks(fontsize=20)\n",
    "plt.xticks(xlabelM, mois,fontsize=10)\n",
    "plt.title(\"impression / engagement en fonction du tweet\",fontsize=20)\n",
    "\n",
    "plt.subplot(122)\n",
    "plt.plot(x,l_like, label=\"like\")\n",
    "plt.plot(x,l_rt, label=\"RT\")\n",
    "plt.title(\"like / RT en fonction du tweet\",fontsize=20)\n",
    "plt.legend(fontsize=15)\n",
    "plt.yticks(fontsize=20)\n",
    "plt.xticks(xlabelM, mois,fontsize=10)\n",
    "\n",
    "plt.show()"
   ]
  },
  {
   "cell_type": "code",
   "execution_count": null,
   "id": "ed152225-6207-47ad-8aeb-0a046fc1634a",
   "metadata": {},
   "outputs": [],
   "source": [
    "nbt = cont_data_month(lmois,1)\n",
    "nb_eng = cont_data_month(lmois,3)\n",
    "nb_impr = cont_data_month(lmois,2)\n",
    "x2 = np.arange(len(mois))\n",
    "\n",
    "%matplotlib inline\n",
    "plt.figure(figsize=(15,5))\n",
    "plt.subplot(131)\n",
    "plt.plot(x2, nbt)\n",
    "plt.xticks(x2, mois)\n",
    "plt.xlabel(\"mois\")\n",
    "plt.title(\"nombre de tweet\")\n",
    "\n",
    "plt.subplot(133)\n",
    "plt.plot(x2, nb_eng)\n",
    "#plt.plot(x2, nb_impr, label = \"impression\")\n",
    "plt.xticks(x2, mois)\n",
    "plt.xlabel(\"mois\")\n",
    "plt.title(\"engagement\")\n",
    "\n",
    "plt.subplot(132)\n",
    "plt.plot(x2, nb_impr)\n",
    "plt.xticks(x2, mois)\n",
    "plt.xlabel(\"mois\")\n",
    "plt.title(\"impression\")\n",
    "\n",
    "plt.show()"
   ]
  },
  {
   "cell_type": "code",
   "execution_count": null,
   "id": "b662f35d-e76a-46a1-9828-a85b93ba75b4",
   "metadata": {},
   "outputs": [],
   "source": []
  }
 ],
 "metadata": {
  "kernelspec": {
   "display_name": "Python 3 (ipykernel)",
   "language": "python",
   "name": "python3"
  },
  "language_info": {
   "codemirror_mode": {
    "name": "ipython",
    "version": 3
   },
   "file_extension": ".py",
   "mimetype": "text/x-python",
   "name": "python",
   "nbconvert_exporter": "python",
   "pygments_lexer": "ipython3",
   "version": "3.10.4"
  }
 },
 "nbformat": 4,
 "nbformat_minor": 5
}
